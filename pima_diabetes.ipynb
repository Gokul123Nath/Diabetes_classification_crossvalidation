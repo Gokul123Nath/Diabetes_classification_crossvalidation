{
 "cells": [
  {
   "cell_type": "markdown",
   "metadata": {
    "colab_type": "text",
    "id": "8LtZTMB29vnk"
   },
   "source": [
    "## Building Classifiers for Diabetes dataset using AdaBoost and XDABoost\n",
    "\n",
    "The objective of the dataset is to diagnostically predict whether or not a patient has diabetes, based on certain diagnostic measurements included in the dataset.All patients here are females of at least 21 years old of Pima Indian heritage.\n",
    "\n",
    "**Independent variables**\n",
    "\t\n",
    "1. Pregnancies : number of times pregnant\n",
    "2. Glucose : plasma glucose concentration \n",
    "3. BloodPressure : Diastolic blood pressure (mm Hg)\n",
    "4. SkinThickness : Triceps skin fold thickness (mm)\n",
    "4. Insulin : 2-Hour serum insulin (mu U/ml)\n",
    "5. BMI : Body mass index \n",
    "6. DiabetesPedigreeFunction : Diabetes pedigree function\n",
    "7. Age : age in years\n",
    "\n",
    "**Target variable**\n",
    "\n",
    "Outcome : categorical variable (0 or 1) \n",
    "\n",
    "\n"
   ]
  },
  {
   "cell_type": "code",
   "execution_count": 1,
   "metadata": {
    "colab": {},
    "colab_type": "code",
    "executionInfo": {
     "elapsed": 2014,
     "status": "ok",
     "timestamp": 1600300019968,
     "user": {
      "displayName": "Pranjal Taye",
      "photoUrl": "",
      "userId": "08038041687747372073"
     },
     "user_tz": -330
    },
    "id": "RZLHOF3N9vnl"
   },
   "outputs": [],
   "source": [
    "import pandas\n",
    "from sklearn import model_selection\n",
    "from sklearn.ensemble import AdaBoostClassifier"
   ]
  },
  {
   "cell_type": "code",
   "execution_count": 3,
   "metadata": {
    "colab": {},
    "colab_type": "code",
    "executionInfo": {
     "elapsed": 1702,
     "status": "ok",
     "timestamp": 1600300022376,
     "user": {
      "displayName": "Pranjal Taye",
      "photoUrl": "",
      "userId": "08038041687747372073"
     },
     "user_tz": -330
    },
    "id": "VoObGUMF9vnp"
   },
   "outputs": [],
   "source": [
    "dataframe = pandas.read_csv('pima-indians-diabetes.csv')\n",
    "array = dataframe.values\n",
    "X = array[:,0:8]\n",
    "Y = array[:,8]\n",
    "seed = 7\n",
    "num_trees = 30"
   ]
  },
  {
   "cell_type": "code",
   "execution_count": 6,
   "metadata": {
    "colab": {
     "base_uri": "https://localhost:8080/",
     "height": 88
    },
    "colab_type": "code",
    "executionInfo": {
     "elapsed": 1759,
     "status": "ok",
     "timestamp": 1600300025247,
     "user": {
      "displayName": "Pranjal Taye",
      "photoUrl": "",
      "userId": "08038041687747372073"
     },
     "user_tz": -330
    },
    "id": "Q2OAaJPH9vnt",
    "outputId": "3b95c488-b671-4363-c2d0-92c43a9e2471"
   },
   "outputs": [
    {
     "name": "stdout",
     "output_type": "stream",
     "text": [
      "0.760457963089542\n"
     ]
    }
   ],
   "source": [
    "kfold = model_selection.KFold(n_splits=10, random_state=None)\n",
    "model = AdaBoostClassifier(n_estimators=num_trees, random_state=seed)\n",
    "results = model_selection.cross_val_score(model, X, Y, cv=kfold)\n",
    "print(results.mean())"
   ]
  },
  {
   "cell_type": "code",
   "execution_count": 8,
   "metadata": {},
   "outputs": [
    {
     "name": "stdout",
     "output_type": "stream",
     "text": [
      "Collecting xgboost\n",
      "  Downloading xgboost-1.6.1-py3-none-win_amd64.whl (125.4 MB)\n",
      "Requirement already satisfied: numpy in c:\\users\\gokulnath.kandasamy\\anaconda3\\lib\\site-packages (from xgboost) (1.20.1)\n",
      "Requirement already satisfied: scipy in c:\\users\\gokulnath.kandasamy\\anaconda3\\lib\\site-packages (from xgboost) (1.6.2)\n",
      "Installing collected packages: xgboost\n",
      "Successfully installed xgboost-1.6.1\n"
     ]
    }
   ],
   "source": [
    "! pip install xgboost"
   ]
  },
  {
   "cell_type": "code",
   "execution_count": 9,
   "metadata": {
    "colab": {
     "base_uri": "https://localhost:8080/",
     "height": 34
    },
    "colab_type": "code",
    "executionInfo": {
     "elapsed": 1752,
     "status": "ok",
     "timestamp": 1600300078633,
     "user": {
      "displayName": "Pranjal Taye",
      "photoUrl": "",
      "userId": "08038041687747372073"
     },
     "user_tz": -330
    },
    "id": "uo_bloNS9vnx",
    "outputId": "683d5250-57e7-41ed-dbb5-467fb8ec280c"
   },
   "outputs": [
    {
     "name": "stdout",
     "output_type": "stream",
     "text": [
      "0.7499487354750513\n"
     ]
    }
   ],
   "source": [
    "from sklearn import svm\n",
    "from xgboost import XGBClassifier\n",
    "clf = XGBClassifier()\n",
    "\n",
    "seed = 7\n",
    "num_trees = 30\n",
    "#kfold = model_selection.KFold(n_splits=10, random_state=seed)\n",
    "kfold = model_selection.KFold(n_splits=10)\n",
    "model = XGBClassifier(n_estimators=num_trees, random_state=seed)\n",
    "results = model_selection.cross_val_score(model, X, Y, cv=kfold)\n",
    "print(results.mean())"
   ]
  },
  {
   "cell_type": "markdown",
   "metadata": {
    "colab_type": "text",
    "id": "z8em7nS39vn1"
   },
   "source": [
    "There are only 2 classifiers.\n",
    "\n",
    "You can use different classifiers and compare the results.\n",
    "Also, check results after applying 10-fold Cross-validation."
   ]
  }
 ],
 "metadata": {
  "colab": {
   "name": "pima_diabetes.ipynb",
   "provenance": []
  },
  "kernelspec": {
   "display_name": "Python 3 (ipykernel)",
   "language": "python",
   "name": "python3"
  },
  "language_info": {
   "codemirror_mode": {
    "name": "ipython",
    "version": 3
   },
   "file_extension": ".py",
   "mimetype": "text/x-python",
   "name": "python",
   "nbconvert_exporter": "python",
   "pygments_lexer": "ipython3",
   "version": "3.11.1"
  }
 },
 "nbformat": 4,
 "nbformat_minor": 1
}
